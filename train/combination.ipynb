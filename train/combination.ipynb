{
 "cells": [
  {
   "cell_type": "code",
   "execution_count": null,
   "metadata": {},
   "outputs": [],
   "source": [
    "import numpy as np\n",
    "import pandas as pd\n",
    "from sklearn.model_selection import train_test_split, GridSearchCV\n",
    "from xgboost import XGBRegressor\n",
    "from sklearn.metrics import mean_squared_error, make_scorer\n",
    "import pickle\n",
    "import matplotlib as plt\n"
   ]
  },
  {
   "cell_type": "code",
   "execution_count": null,
   "metadata": {},
   "outputs": [],
   "source": [
    "X_train = pd.read_csv(\"data/features/X_train.csv\")\n",
    "y_train = pd.read_csv(\"data/features/y_train.csv\")\n",
    "X_val = pd.read_csv(\"data/features/X_val.csv\")\n",
    "y_val = pd.read_csv(\"data/features/y_val.csv\")\n",
    "X_test = pd.read_csv(\"data/features/X_test.csv\")\n",
    "y_test = pd.read_csv(\"data/features/y_test.csv\")\n",
    "\n",
    "X_train = pd.concat([X_train, X_val])\n",
    "y_train = pd.concat([y_train, y_val])\n",
    "\n",
    "# Make them in the same order using the pothole_id\n",
    "X_train = X_train.sort_values(by=['pothole_id'])\n",
    "y_train = y_train.sort_values(by=['1'])\n",
    "X_test = X_test.sort_values(by=['pothole_id'])\n",
    "y_test = y_test.sort_values(by=['1'])\n",
    "\n",
    "# Drop the pothole_id column and '1' column\n",
    "X_train = X_train.drop(['pothole_id'], axis=1)\n",
    "y_train = y_train.drop(['1'], axis=1)\n",
    "X_test = X_test.drop(['pothole_id'], axis=1)\n",
    "y_test = y_test.drop(['1'], axis=1)"
   ]
  },
  {
   "cell_type": "code",
   "execution_count": null,
   "metadata": {},
   "outputs": [],
   "source": [
    "# Impute missing data\n",
    "from sklearn.impute import SimpleImputer\n",
    "imputer = SimpleImputer(strategy='mean')\n",
    "X_train_imputed = imputer.fit_transform(X_train)\n",
    "X_test_imputed = imputer.transform(X_test)"
   ]
  },
  {
   "cell_type": "code",
   "execution_count": null,
   "metadata": {},
   "outputs": [],
   "source": [
    "# remove outliers using z-score and a threshold of 5 \n",
    "from scipy import stats\n",
    "\n",
    "z = np.abs(stats.zscore(X_train_imputed))\n",
    "threshold = 5\n",
    "X_train_imputed = X_train_imputed[(z < threshold).all(axis=1)]\n",
    "y_train = y_train[(z < threshold).all(axis=1)]"
   ]
  },
  {
   "cell_type": "code",
   "execution_count": null,
   "metadata": {},
   "outputs": [],
   "source": [
    "# Scale the data\n",
    "from sklearn.preprocessing import StandardScaler\n",
    "\n",
    "scaler = StandardScaler()\n",
    "X_train_scaled = scaler.fit_transform(X_train_imputed)\n",
    "X_test_scaled = scaler.transform(X_test_imputed)\n",
    "\n",
    "# Min max scaling on the target\n",
    "from sklearn.preprocessing import MinMaxScaler\n",
    "\n",
    "scaler = MinMaxScaler()\n",
    "y_train_scaled = scaler.fit_transform(y_train)\n",
    "y_test_scaled = scaler.transform(y_test)"
   ]
  },
  {
   "cell_type": "markdown",
   "metadata": {},
   "source": [
    "# PCA\n"
   ]
  },
  {
   "cell_type": "code",
   "execution_count": null,
   "metadata": {},
   "outputs": [],
   "source": [
    "import matplotlib.pyplot as plt\n",
    "from sklearn.decomposition import PCA\n",
    "\n",
    "# Step 1: Fit PCA\n",
    "pca = PCA(n_components=50)\n",
    "pca.fit(X_train_scaled)\n",
    "\n",
    "# Step 2: Extract explained variance ratio\n",
    "explained_variance_ratio = pca.explained_variance_ratio_\n",
    "cumulative_explained_variance = explained_variance_ratio.cumsum()\n",
    "\n",
    "# Step 3: Plot the cumulative explained variance ratio\n",
    "plt.figure(figsize=(10, 6))\n",
    "plt.plot(range(1, len(cumulative_explained_variance) + 1), cumulative_explained_variance, marker='o', linestyle='--')\n",
    "plt.title('Scree Plot')\n",
    "plt.xlabel('Number of Components')\n",
    "plt.ylabel('Cumulative Explained Variance Ratio')\n",
    "plt.grid()\n",
    "plt.show()\n"
   ]
  },
  {
   "cell_type": "code",
   "execution_count": null,
   "metadata": {},
   "outputs": [],
   "source": [
    "# Use PCA with 2 components\n",
    "pca = PCA(n_components=50)\n",
    "X_train_pca = pca.fit_transform(X_train_scaled)\n",
    "X_test_pca = pca.transform(X_test_scaled)"
   ]
  },
  {
   "cell_type": "markdown",
   "metadata": {},
   "source": [
    "# XGBoost\n"
   ]
  },
  {
   "cell_type": "code",
   "execution_count": null,
   "metadata": {},
   "outputs": [],
   "source": [
    "param_grid = {\n",
    "    'n_estimators': [1100, 1500, 2000],  # Further increased values\n",
    "    'learning_rate': [0.01, 0.05, 0.1],\n",
    "    'max_depth': [3, 5, 7],  # Further increased values\n",
    "    'subsample': [0.8, 0.9, 1.0],  # Further increased values\n",
    "    'colsample_bytree': [0.1, 0.3, 0.5],  # Further increased values\n",
    "    'gamma': [0, 0.1, 0.2],\n",
    "}"
   ]
  },
  {
   "cell_type": "code",
   "execution_count": null,
   "metadata": {},
   "outputs": [],
   "source": [
    "# Step 3: Set up cross-validation and hyperparameter tuning\n",
    "xgb_model = XGBRegressor(random_state=42)\n",
    "\n",
    "# Use mean squared error as the scoring metric\n",
    "mse_scorer = make_scorer(mean_squared_error, greater_is_better=False)\n",
    "\n",
    "# Set up GridSearchCV\n",
    "grid_search = GridSearchCV(\n",
    "    estimator=xgb_model,\n",
    "    param_grid=param_grid,\n",
    "    scoring=mse_scorer,\n",
    "    cv=5,\n",
    "    n_jobs=-1,\n",
    "    verbose=2\n",
    ")\n",
    "\n",
    "# Fit the model with hyperparameter tuning\n",
    "grid_search.fit(X_train_pca, y_train_scaled)\n",
    "\n",
    "# Best parameters found\n",
    "best_params = grid_search.best_params_\n",
    "print(f\"Best hyperparameters: {best_params}\")\n",
    "\n",
    "# Use the best estimator to predict on the test set\n",
    "best_model = grid_search.best_estimator_\n",
    "\n",
    "# Save the model to a file\n",
    "with open('best_xgb_model.pkl', 'wb') as file:\n",
    "    pickle.dump(best_model, file)"
   ]
  },
  {
   "cell_type": "code",
   "execution_count": null,
   "metadata": {},
   "outputs": [],
   "source": [
    "from sklearn.metrics import r2_score\n",
    "\n",
    "# Load the model from the file\n",
    "with open('best_xgb_model.pkl', 'rb') as file:\n",
    "    loaded_model = pickle.load(file)\n",
    "\n",
    "# Step 4: Evaluate the model\n",
    "y_pred = loaded_model.predict(X_test_pca)\n",
    "\n",
    "mse = mean_squared_error(y_test_scaled, y_pred)\n",
    "print(f\"Mean Squared Error on the test set: {mse:.4f}\")\n",
    "r2 = r2_score(y_test_scaled, y_pred)\n",
    "print(f\"R-squared value on the test set: {r2:.4f}\")\n",
    "\n",
    "y_output = scaler.inverse_transform(y_pred.reshape(-1, 1))"
   ]
  },
  {
   "cell_type": "markdown",
   "metadata": {},
   "source": [
    "# Random Forest Classifier\n"
   ]
  },
  {
   "cell_type": "code",
   "execution_count": null,
   "metadata": {},
   "outputs": [],
   "source": [
    "from sklearn.ensemble import RandomForestRegressor"
   ]
  },
  {
   "cell_type": "code",
   "execution_count": null,
   "metadata": {},
   "outputs": [],
   "source": [
    "# Define the parameter grid for hyperparameter tuning\n",
    "param_grid = {\n",
    "    'n_estimators': [5000, 10000],\n",
    "    'max_depth': [None], #5, 10, 20, 30],\n",
    "    'min_samples_split': [2], #5, 10],\n",
    "    'min_samples_leaf': [4, 8, 12],\n",
    "    'max_features': ['sqrt'] #'log2'],\n",
    "}"
   ]
  },
  {
   "cell_type": "code",
   "execution_count": null,
   "metadata": {},
   "outputs": [],
   "source": [
    "# Set up cross-validation and hyperparameter tuning\n",
    "rf_model = RandomForestRegressor(random_state=42)\n",
    "\n",
    "# Use mean squared error as the scoring metric\n",
    "mse_scorer = make_scorer(mean_squared_error, greater_is_better=False)\n",
    "\n",
    "# Set up GridSearchCV\n",
    "grid_search = GridSearchCV(\n",
    "    estimator=rf_model,\n",
    "    param_grid=param_grid,\n",
    "    scoring=mse_scorer,\n",
    "    cv=5,\n",
    "    n_jobs=-1,\n",
    "    verbose=2\n",
    ")\n",
    "\n",
    "# Fit the model with hyperparameter tuning\n",
    "grid_search.fit(X_train_pca, y_train_scaled.ravel())\n",
    "\n",
    "# Best parameters found\n",
    "best_params = grid_search.best_params_\n",
    "print(f\"Best hyperparameters: {best_params}\")\n",
    "\n",
    "# Use the best estimator to predict on the test set\n",
    "best_model = grid_search.best_estimator_\n",
    "\n",
    "# Save the model to a file\n",
    "with open('best_rf_model.pkl', 'wb') as file:\n",
    "    pickle.dump(best_model, file)"
   ]
  },
  {
   "cell_type": "code",
   "execution_count": null,
   "metadata": {},
   "outputs": [],
   "source": [
    "from sklearn.metrics import r2_score\n",
    "\n",
    "# Load the model from the file\n",
    "with open('best_rf_model.pkl', 'rb') as file:\n",
    "    loaded_model = pickle.load(file)\n",
    "\n",
    "# Step 4: Evaluate the model\n",
    "y_pred = loaded_model.predict(X_test_pca)\n",
    "\n",
    "mse = mean_squared_error(y_test_scaled, y_pred)\n",
    "print(f\"Mean Squared Error on the test set: {mse:.4f}\")\n",
    "r2 = r2_score(y_test_scaled, y_pred)\n",
    "print(f\"R-squared value on the test set: {r2:.4f}\")\n",
    "\n",
    "y_output = scaler.inverse_transform(y_pred.reshape(-1, 1))"
   ]
  },
  {
   "cell_type": "markdown",
   "metadata": {},
   "source": [
    "# Support Vector Regression\n"
   ]
  },
  {
   "cell_type": "code",
   "execution_count": null,
   "metadata": {},
   "outputs": [],
   "source": [
    "from sklearn.svm import SVR"
   ]
  },
  {
   "cell_type": "code",
   "execution_count": null,
   "metadata": {},
   "outputs": [],
   "source": [
    "# Define the extended parameter grid for hyperparameter tuning\n",
    "param_grid = {\n",
    "    'C': [500, 600, 800, 1000],  # Increased range of C values\n",
    "    'kernel': ['rbf', 'sigmoid'], #'poly', 'sigmoid'],  # Added more kernel types\n",
    "    'gamma': ['scale', 'auto', 0.001, 0.01, 0.1, 1],  # Added specific gamma values\n",
    "    'epsilon': [0.01, 0.1, 0.2, 0.5]  # Added more epsilon values\n",
    "}"
   ]
  },
  {
   "cell_type": "code",
   "execution_count": null,
   "metadata": {},
   "outputs": [],
   "source": [
    "## Don't run. It runs for a long time\n",
    "\n",
    "# Set up cross-validation and hyperparameter tuning\n",
    "svr_model = SVR()\n",
    "\n",
    "# Use mean squared error as the scoring metric\n",
    "mse_scorer = make_scorer(mean_squared_error, greater_is_better=False)\n",
    "\n",
    "# Set up GridSearchCV\n",
    "grid_search = GridSearchCV(\n",
    "    estimator=svr_model,\n",
    "    param_grid=param_grid,\n",
    "    scoring=mse_scorer,\n",
    "    cv=10,\n",
    "    n_jobs=-1,\n",
    "    verbose=2\n",
    ")\n",
    "\n",
    "# Fit the model with hyperparameter tuning\n",
    "grid_search.fit(X_train_lasso, y_train_scaled.ravel())\n",
    "\n",
    "# Best parameters found\n",
    "best_params = grid_search.best_params_\n",
    "print(f\"Best hyperparameters: {best_params}\")\n",
    "\n",
    "# Use the best estimator to predict on the test set\n",
    "best_model = grid_search.best_estimator_\n",
    "\n",
    "# Save the model to a file\n",
    "with open('best_svr_model.pkl', 'wb') as file:\n",
    "    pickle.dump(best_model, file)"
   ]
  },
  {
   "cell_type": "code",
   "execution_count": null,
   "metadata": {},
   "outputs": [],
   "source": [
    "from sklearn.metrics import r2_score\n",
    "\n",
    "# Load the model from the file\n",
    "with open('best_svr_model.pkl', 'rb') as file:\n",
    "    loaded_model = pickle.load(file)\n",
    "\n",
    "# Step 4: Evaluate the model\n",
    "\n",
    "y_pred = loaded_model.predict(X_test_lasso)\n",
    "mse = mean_squared_error(y_test_scaled, y_pred)\n",
    "print(f\"Mean Squared Error on the test set: {mse:.4f}\")\n",
    "\n",
    "# Get the r-squared value\n",
    "r2 = r2_score(y_test_scaled, y_pred)\n",
    "print(f\"R-squared value on the test set: {r2:.4f}\")"
   ]
  },
  {
   "cell_type": "markdown",
   "metadata": {},
   "source": [
    "# Linear Regression\n"
   ]
  },
  {
   "cell_type": "code",
   "execution_count": null,
   "metadata": {},
   "outputs": [],
   "source": [
    "from sklearn.linear_model import LinearRegression\n",
    "\n",
    "# Fit the linear regression model\n",
    "lr_model = LinearRegression()\n",
    "lr_model.fit(X_train_lasso, y_train_scaled)\n",
    "\n",
    "# Use the model to predict on the test set\n",
    "y_pred = lr_model.predict(X_test_lasso)\n",
    "\n",
    "# Get the mean squared error\n",
    "mse = mean_squared_error(y_test_scaled, y_pred)\n",
    "print(f\"Mean Squared Error on the test set: {mse:.4f}\")\n",
    "\n",
    "# Get the r-squared value\n",
    "r2 = r2_score(y_test_scaled, y_pred)\n",
    "print(f\"R-squared value on the test set: {r2:.4f}\")\n",
    "\n",
    "# Save the model to a file\n",
    "with open('lr_model.pkl', 'wb') as file:\n",
    "    pickle.dump(lr_model, file)\n",
    "\n",
    "y_output = scaler.inverse_transform(y_pred.reshape(-1, 1))"
   ]
  },
  {
   "cell_type": "markdown",
   "metadata": {},
   "source": [
    "# NN\n"
   ]
  },
  {
   "cell_type": "code",
   "execution_count": null,
   "metadata": {},
   "outputs": [],
   "source": [
    "from tensorflow.keras.models import Sequential\n",
    "from tensorflow.keras.layers import Dense, Dropout\n",
    "from tensorflow.keras.callbacks import EarlyStopping\n",
    "from tensorflow.keras.regularizers import l2\n",
    "from sklearn.metrics import r2_score\n",
    "\n",
    "# Define the model\n",
    "model = Sequential()\n",
    "model.add(Dense(30, activation='relu', input_shape=(X_train_scaled.shape[1],), kernel_regularizer=l2(0.01)))\n",
    "model.add(Dropout(0.2))\n",
    "model.add(Dense(15, activation='relu', kernel_regularizer=l2(0.01)))\n",
    "model.add(Dropout(0.2))\n",
    "model.add(Dense(1, activation='linear'))\n",
    "\n",
    "# Compile the model\n",
    "model.compile(optimizer='adam', loss='mean_squared_error')\n",
    "\n",
    "# Early stopping callback\n",
    "early_stopping = EarlyStopping(monitor='val_loss', patience=70, restore_best_weights=True)\n",
    "\n",
    "# Train the model\n",
    "history = model.fit(X_train_scaled, y_train_scaled, epochs=500, batch_size=1, validation_split=0.2, callbacks=[early_stopping])\n",
    "\n",
    "# Save the model to a file\n",
    "model.save('nn_model.h5')\n",
    "\n",
    "# Get R-squared value on test data\n",
    "y_pred = model.predict(X_test_scaled)\n",
    "y_pred = scaler.inverse_transform(y_pred)\n",
    "r2 = r2_score(y_test, y_pred)\n",
    "print(f\"R-squared value on the test set: {r2:.4f}\")"
   ]
  },
  {
   "cell_type": "code",
   "execution_count": null,
   "metadata": {},
   "outputs": [],
   "source": []
  }
 ],
 "metadata": {
  "kernelspec": {
   "display_name": "Python (venv)",
   "language": "python",
   "name": "venv"
  },
  "language_info": {
   "codemirror_mode": {
    "name": "ipython",
    "version": 3
   },
   "file_extension": ".py",
   "mimetype": "text/x-python",
   "name": "python",
   "nbconvert_exporter": "python",
   "pygments_lexer": "ipython3",
   "version": "3.12.5"
  }
 },
 "nbformat": 4,
 "nbformat_minor": 4
}
