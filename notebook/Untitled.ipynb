{
 "cells": [
  {
   "cell_type": "code",
   "execution_count": 6,
   "id": "7644dace-6051-42d5-8452-ea099a348278",
   "metadata": {},
   "outputs": [
    {
     "name": "stdout",
     "output_type": "stream",
     "text": [
      "Requirement already satisfied: opencv-python in ./venv/lib/python3.12/site-packages (4.10.0.84)\n",
      "Requirement already satisfied: numpy>=1.21.2 in ./venv/lib/python3.12/site-packages (from opencv-python) (2.0.1)\n",
      "\n",
      "\u001b[1m[\u001b[0m\u001b[34;49mnotice\u001b[0m\u001b[1;39;49m]\u001b[0m\u001b[39;49m A new release of pip is available: \u001b[0m\u001b[31;49m24.0\u001b[0m\u001b[39;49m -> \u001b[0m\u001b[32;49m24.2\u001b[0m\n",
      "\u001b[1m[\u001b[0m\u001b[34;49mnotice\u001b[0m\u001b[1;39;49m]\u001b[0m\u001b[39;49m To update, run: \u001b[0m\u001b[32;49mpip install --upgrade pip\u001b[0m\n"
     ]
    },
    {
     "ename": "ModuleNotFoundError",
     "evalue": "No module named 'cv2'",
     "output_type": "error",
     "traceback": [
      "\u001b[0;31m---------------------------------------------------------------------------\u001b[0m",
      "\u001b[0;31mModuleNotFoundError\u001b[0m                       Traceback (most recent call last)",
      "Cell \u001b[0;32mIn[6], line 11\u001b[0m\n\u001b[1;32m      9\u001b[0m \u001b[38;5;28;01mfrom\u001b[39;00m \u001b[38;5;21;01mglob\u001b[39;00m \u001b[38;5;28;01mimport\u001b[39;00m glob\n\u001b[1;32m     10\u001b[0m \u001b[38;5;28;01mfrom\u001b[39;00m \u001b[38;5;21;01mPIL\u001b[39;00m \u001b[38;5;28;01mimport\u001b[39;00m Image\n\u001b[0;32m---> 11\u001b[0m \u001b[38;5;28;01mimport\u001b[39;00m \u001b[38;5;21;01mcv2\u001b[39;00m\n\u001b[1;32m     12\u001b[0m \u001b[38;5;28mprint\u001b[39m(cv2\u001b[38;5;241m.\u001b[39m__version__)\n\u001b[1;32m     14\u001b[0m sns\u001b[38;5;241m.\u001b[39mset(style\u001b[38;5;241m=\u001b[39m\u001b[38;5;124m\"\u001b[39m\u001b[38;5;124mwhitegrid\u001b[39m\u001b[38;5;124m\"\u001b[39m)\n",
      "\u001b[0;31mModuleNotFoundError\u001b[0m: No module named 'cv2'"
     ]
    }
   ],
   "source": [
    "!pip install opencv-python\n",
    "\n",
    "\n",
    "import os\n",
    "import pandas as pd\n",
    "import numpy as np\n",
    "import matplotlib.pyplot as plt\n",
    "import seaborn as sns\n",
    "from glob import glob\n",
    "from PIL import Image\n",
    "import cv2\n",
    "print(cv2.__version__)\n",
    "\n",
    "sns.set(style=\"whitegrid\")\n"
   ]
  },
  {
   "cell_type": "code",
   "execution_count": null,
   "id": "7d013c0d-4798-4b73-bc86-bf33d200630e",
   "metadata": {},
   "outputs": [],
   "source": [
    "train_csv_path = 'data/train_labels.csv'\n",
    "df = pd.read_csv(train_csv_path)\n",
    "df.head()"
   ]
  },
  {
   "cell_type": "code",
   "execution_count": null,
   "id": "0486edfb-f239-4e28-8812-5b331e71abd7",
   "metadata": {},
   "outputs": [],
   "source": [
    "df.info()\n"
   ]
  },
  {
   "cell_type": "markdown",
   "id": "ec5532c8-6ac0-4e4d-a652-5300b4db8b62",
   "metadata": {},
   "source": [
    "## Distribution of the target variable"
   ]
  },
  {
   "cell_type": "code",
   "execution_count": null,
   "id": "5256da83-28d7-40f1-83b6-5cfddbf50b90",
   "metadata": {},
   "outputs": [],
   "source": [
    "plt.figure(figsize=(10, 6))\n",
    "sns.histplot(df['bags_used'], kde=True, bins=20)\n",
    "plt.title('Distribution of Bags Used to Fill Potholes')\n",
    "plt.xlabel('Number of Bags')\n",
    "plt.ylabel('Frequency')\n",
    "plt.show()\n",
    "df['bags_used'].describe()\n"
   ]
  },
  {
   "cell_type": "markdown",
   "id": "56e72d9e-da3a-479e-b715-0de985086485",
   "metadata": {},
   "source": [
    "## Reading the YOLO Annotations"
   ]
  },
  {
   "cell_type": "code",
   "execution_count": null,
   "id": "160bf643-9c4f-48f0-aa64-96663517db60",
   "metadata": {},
   "outputs": [],
   "source": [
    "def read_yolo_annotation(file_path):\n",
    "    with open(file_path, 'r') as file:\n",
    "        lines = file.readlines()\n",
    "    annotations = []\n",
    "    for line in lines:\n",
    "        parts = line.strip().split()\n",
    "        label = int(parts[0])\n",
    "        x_center, y_center, width, height = map(float, parts[1:])\n",
    "        annotations.append((label, x_center, y_center, width, height))\n",
    "    return annotations\n",
    "    "
   ]
  },
  {
   "cell_type": "code",
   "execution_count": null,
   "id": "341b7725-d98d-400e-a738-3258298633d9",
   "metadata": {},
   "outputs": [],
   "source": [
    "annotation_files = glob('data/train_annotations/*.txt')\n"
   ]
  },
  {
   "cell_type": "code",
   "execution_count": null,
   "id": "8cc3cdd1-1caa-4b19-93c0-1cd5c0a6506d",
   "metadata": {},
   "outputs": [],
   "source": [
    "sample_image_path = 'data/train_images/plabel.jpg'\n",
    "sample_annotation_path = 'data/train_annotations/plabel.txt'"
   ]
  },
  {
   "cell_type": "code",
   "execution_count": null,
   "id": "68318f11-1bec-4e18-8914-de28fcdfe156",
   "metadata": {},
   "outputs": [],
   "source": [
    "image = cv2.imread(sample_image_path)\n",
    "image_rgb = cv2.cvtColor(image, cv2.COLOR_BGR2RGB)\n",
    "plt.figure(figsize=(8, 8))\n",
    "plt.imshow(image_rgb)\n",
    "plt.title('Sample Image')\n",
    "plt.show()"
   ]
  },
  {
   "cell_type": "code",
   "execution_count": null,
   "id": "7e1d473b-96a2-47f8-bd31-654550f9aac5",
   "metadata": {},
   "outputs": [],
   "source": [
    "annotations = read_yolo_annotation(sample_annotation_path)\n",
    "\n",
    "# Convert YOLO format to bounding box coordinates\n",
    "image_height, image_width, _ = image.shape\n",
    "for annotation in annotations:\n",
    "    label, x_center, y_center, width, height = annotation\n",
    "    x_min = int((x_center - width / 2) * image_width)\n",
    "    x_max = int((x_center + width / 2) * image_width)\n",
    "    y_min = int((y_center - height / 2) * image_height)\n",
    "    y_max = int((y_center + height / 2) * image_height)\n",
    "    cv2.rectangle(image_rgb, (x_min, y_min), (x_max, y_max), (255, 0, 0), 2)\n",
    "    cv2.putText(image_rgb, str(label), (x_min, y_min - 10), cv2.FONT_HERSHEY_SIMPLEX, 0.9, (255, 0, 0), 2)\n",
    "\n",
    "# Display the image with annotations\n",
    "plt.figure(figsize=(8, 8))\n",
    "plt.imshow(image_rgb)\n",
    "plt.title('Sample Image with Annotations')\n",
    "plt.show()"
   ]
  },
  {
   "cell_type": "code",
   "execution_count": null,
   "id": "c9702c3b-98a8-4a5f-a982-2cf2ed39ba9d",
   "metadata": {},
   "outputs": [],
   "source": [
    "sample_images = glob('data/train_images/*.jpg')[:5]\n",
    "\n",
    "plt.figure(figsize=(16, 16))\n",
    "for i, image_path in enumerate(sample_images):\n",
    "    image = cv2.imread(image_path)\n",
    "    image_rgb = cv2.cvtColor(image, cv2.COLOR_BGR2RGB)\n",
    "    plt.subplot(1, 5, i+1)\n",
    "    plt.imshow(image_rgb)\n",
    "    plt.axis('off')\n",
    "plt.suptitle('Sample Images', fontsize=20)\n",
    "plt.show()"
   ]
  },
  {
   "cell_type": "code",
   "execution_count": null,
   "id": "be1e355f-335a-4e68-bc50-27fd23482879",
   "metadata": {},
   "outputs": [],
   "source": [
    "print(\"Summary of Target Variable - Bags Used\")\n",
    "print(df['bags_used'].describe())\n",
    "\n",
    "print(\"\\nConclusion from EDA:\")\n",
    "print(\"- The target variable 'bags_used' is right-skewed, with most potholes requiring a small number of bags.\")\n",
    "print(\"- Images have been successfully annotated, and bounding boxes appear to correctly identify potholes and measurement sticks.\")\n"
   ]
  }
 ],
 "metadata": {
  "kernelspec": {
   "display_name": "Python (myenv)",
   "language": "python",
   "name": "myenv"
  },
  "language_info": {
   "codemirror_mode": {
    "name": "ipython",
    "version": 3
   },
   "file_extension": ".py",
   "mimetype": "text/x-python",
   "name": "python",
   "nbconvert_exporter": "python",
   "pygments_lexer": "ipython3",
   "version": "3.12.4"
  }
 },
 "nbformat": 4,
 "nbformat_minor": 5
}
